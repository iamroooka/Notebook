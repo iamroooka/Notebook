{
 "cells": [
  {
   "cell_type": "code",
   "execution_count": 3,
   "id": "502070d5-8eb1-46b2-a724-95334a7366be",
   "metadata": {},
   "outputs": [],
   "source": [
    "#Veri Tipini Öğrenmek İçin "
   ]
  },
  {
   "cell_type": "code",
   "execution_count": 4,
   "id": "9588489c-aee3-4440-953f-3c75aa10cdec",
   "metadata": {},
   "outputs": [
    {
     "data": {
      "text/plain": [
       "str"
      ]
     },
     "execution_count": 4,
     "metadata": {},
     "output_type": "execute_result"
    }
   ],
   "source": [
    "type('name')"
   ]
  },
  {
   "cell_type": "code",
   "execution_count": 5,
   "id": "8b8c8965-881d-422f-8d66-cd35df843ce5",
   "metadata": {},
   "outputs": [
    {
     "data": {
      "text/plain": [
       "int"
      ]
     },
     "execution_count": 5,
     "metadata": {},
     "output_type": "execute_result"
    }
   ],
   "source": [
    "type(10)"
   ]
  },
  {
   "cell_type": "code",
   "execution_count": 6,
   "id": "ec6f0722-4afb-459f-8939-0292fe481fd3",
   "metadata": {},
   "outputs": [],
   "source": [
    "#string yapıları tırnak içinde göstermeliyiz (\"\") ya da ('') şeklinde "
   ]
  },
  {
   "cell_type": "code",
   "execution_count": 7,
   "id": "f79ec94a-d719-48ab-ae08-a18b94268f39",
   "metadata": {},
   "outputs": [
    {
     "data": {
      "text/plain": [
       "str"
      ]
     },
     "execution_count": 7,
     "metadata": {},
     "output_type": "execute_result"
    }
   ],
   "source": [
    "type('name')"
   ]
  },
  {
   "cell_type": "code",
   "execution_count": 8,
   "id": "1e23c4a9-f58d-48a1-bd32-a7647a167486",
   "metadata": {},
   "outputs": [],
   "source": [
    "name=14   #int(tam sayı) veri tipini str veriye tanımladık bu yüzden \"name\" kelimesinin veri tipi artık int olr tanımlandı#"
   ]
  },
  {
   "cell_type": "code",
   "execution_count": 9,
   "id": "2ffe2a23-c9c4-4b47-a247-3cab1a0f946c",
   "metadata": {},
   "outputs": [
    {
     "data": {
      "text/plain": [
       "int"
      ]
     },
     "execution_count": 9,
     "metadata": {},
     "output_type": "execute_result"
    }
   ],
   "source": [
    "type(name)"
   ]
  },
  {
   "cell_type": "code",
   "execution_count": 10,
   "id": "c381a1f6-801a-40b6-878d-490c3b6480bb",
   "metadata": {},
   "outputs": [
    {
     "ename": "SyntaxError",
     "evalue": "cannot assign to literal here. Maybe you meant '==' instead of '='? (166318056.py, line 1)",
     "output_type": "error",
     "traceback": [
      "\u001b[1;36m  Cell \u001b[1;32mIn[10], line 1\u001b[1;36m\u001b[0m\n\u001b[1;33m    15 = \"ali\" # Sayılara değer ataması yapamadığımız için hata aldık.\u001b[0m\n\u001b[1;37m    ^\u001b[0m\n\u001b[1;31mSyntaxError\u001b[0m\u001b[1;31m:\u001b[0m cannot assign to literal here. Maybe you meant '==' instead of '='?\n"
     ]
    }
   ],
   "source": [
    "15 = \"ali\" # Sayılara değer ataması yapamadığımız için hata aldık."
   ]
  },
  {
   "cell_type": "code",
   "execution_count": null,
   "id": "f8853f66-5094-4b2b-83bb-79a2faa49f42",
   "metadata": {},
   "outputs": [],
   "source": [
    "ali = 15 #doğru kullanımı bu şekilde olmalıdır."
   ]
  },
  {
   "cell_type": "code",
   "execution_count": null,
   "id": "dd4a968d-e439-444f-9faa-d7ea89ce76dc",
   "metadata": {},
   "outputs": [],
   "source": [
    "type(ali)"
   ]
  },
  {
   "cell_type": "code",
   "execution_count": null,
   "id": "5a025fbd-bd89-414a-ba0d-de35e55b6c8a",
   "metadata": {},
   "outputs": [],
   "source": [
    " # isim + tab tusu + nokta(.) ya bastığımızda o değişkene yapabileceğimiz seçenekler karşımıza çıkar."
   ]
  },
  {
   "cell_type": "code",
   "execution_count": null,
   "id": "135c6b21-96e8-46f1-822c-505e2edf3818",
   "metadata": {},
   "outputs": [],
   "source": [
    "isim= \"rumeysa Kaykısız\""
   ]
  },
  {
   "cell_type": "code",
   "execution_count": null,
   "id": "dddb2b2b-0fd3-4cb3-b031-2d19c80acfe5",
   "metadata": {},
   "outputs": [],
   "source": [
    "isim.capitalize()   #Baş harfinini büyük harfle yazdırdı"
   ]
  },
  {
   "cell_type": "code",
   "execution_count": null,
   "id": "f707b2d7-c1df-4169-b071-f1fbe72ab7ff",
   "metadata": {},
   "outputs": [],
   "source": [
    "x= 10"
   ]
  },
  {
   "cell_type": "code",
   "execution_count": null,
   "id": "9a185c48-8a6d-4f12-bb1c-921e6c9051a2",
   "metadata": {},
   "outputs": [],
   "source": [
    "x.bit_length()  # x değişkenine tanımladığımız 10 sayısının bit uzunluğunu öğrendik "
   ]
  },
  {
   "cell_type": "code",
   "execution_count": null,
   "id": "68782e78-7744-4d6e-b6b5-5babcd3f3f94",
   "metadata": {},
   "outputs": [],
   "source": [
    "help(isim.count)   #Yazdığımız komutun başına help kodunu girdiğimizde o kodla ilgili bilgi verir."
   ]
  },
  {
   "cell_type": "code",
   "execution_count": null,
   "id": "fef81894-57d4-400f-87d9-4ae1fff5397c",
   "metadata": {},
   "outputs": [],
   "source": [
    "isim.count(\"a\") #İsim değişkenine atadığımız değerdeki a sayısını sorduk (rumeysA kAykısız) 2 tane "
   ]
  },
  {
   "cell_type": "code",
   "execution_count": 13,
   "id": "15bbd831-8e34-4c85-bfab-aef6c3f00eb3",
   "metadata": {},
   "outputs": [],
   "source": [
    "isim=\"rumeysa kaykısız\""
   ]
  },
  {
   "cell_type": "code",
   "execution_count": 15,
   "id": "e540d091-0297-4b58-9aa1-81211061440f",
   "metadata": {},
   "outputs": [
    {
     "data": {
      "text/plain": [
       "'RUMEYSA KAYKISIZ'"
      ]
     },
     "execution_count": 15,
     "metadata": {},
     "output_type": "execute_result"
    }
   ],
   "source": [
    "isim.upper()   #Bütün harfleri büyük olacak şekilde yazdırır."
   ]
  },
  {
   "cell_type": "code",
   "execution_count": 17,
   "id": "57c7c1eb-61c6-4e38-8133-11c0c48689d7",
   "metadata": {},
   "outputs": [
    {
     "data": {
      "text/plain": [
       "16"
      ]
     },
     "execution_count": 17,
     "metadata": {},
     "output_type": "execute_result"
    }
   ],
   "source": [
    "len(isim) #Tanımlı değişkenimiz olan 'isim' yani 'rumeysa kaykısız' değişkeninin uzunluğunu verir.(boşluğu da sayar)"
   ]
  },
  {
   "cell_type": "code",
   "execution_count": 20,
   "id": "119d94c1-16bd-455b-aa7a-8da21946c34f",
   "metadata": {},
   "outputs": [
    {
     "name": "stdout",
     "output_type": "stream",
     "text": [
      "rumeysa\n",
      "kaykısız\n"
     ]
    }
   ],
   "source": [
    "print(\"rumeysa\\nkaykısız\")  # \\n alt alta yazma görevi görür."
   ]
  },
  {
   "cell_type": "code",
   "execution_count": null,
   "id": "01c5d0e4-ba72-45bf-a957-8e74fb3bc3a7",
   "metadata": {},
   "outputs": [],
   "source": [
    "#Alt alta yazdırdık \\n komutu girerek."
   ]
  },
  {
   "cell_type": "code",
   "execution_count": 25,
   "id": "70eb4d47-1244-4b67-850a-6351db0f0ac3",
   "metadata": {},
   "outputs": [
    {
     "name": "stdout",
     "output_type": "stream",
     "text": [
      "Zemheri olsa da doruklarda\n",
      "Doğar küllerinden, direnir her yokluğa\n",
      "Kaf dağında zümrütü ankadır namın\n",
      "Açılır bir kadının Saçları çiçek çiçek, ruhumuzda\n",
      "Her mevsim namın kalır, unutulsa da adın\n",
      "İlkbahardan sonra, beşinci mevsimdir Kadın...\n"
     ]
    }
   ],
   "source": [
    "print(\"Zemheri olsa da doruklarda\\nDoğar küllerinden, direnir her yokluğa\\nKaf dağında zümrütü ankadır namın\\nAçılır bir kadının Saçları çiçek çiçek, ruhumuzda\\nHer mevsim namın kalır, unutulsa da adın\\nİlkbahardan sonra, beşinci mevsimdir Kadın...\") "
   ]
  },
  {
   "cell_type": "code",
   "execution_count": 27,
   "id": "f0271846-f88e-43d0-a77e-3b9e4540660c",
   "metadata": {},
   "outputs": [],
   "source": [
    "#Yan yana yazdırdı bütün satırları çünkü \\n kullanmadık."
   ]
  },
  {
   "cell_type": "code",
   "execution_count": 28,
   "id": "5ad40e78-98b9-4713-870f-cac8a218ebc6",
   "metadata": {},
   "outputs": [
    {
     "name": "stdout",
     "output_type": "stream",
     "text": [
      "Zemheri olsa da doruklarda,Doğar küllerinden, direnir her yokluğa,Kaf dağında zümrütü ankadır namın,Açılır bir kadının Saçları çiçek çiçek, ruhumuzda.Her mevsim namın kalır, unutulsa da adın.İlkbahardan sonra, beşinci mevsimdir Kadın...\n"
     ]
    }
   ],
   "source": [
    "print(\"Zemheri olsa da doruklarda,Doğar küllerinden, direnir her yokluğa,Kaf dağında zümrütü ankadır namın,Açılır bir kadının Saçları çiçek çiçek, ruhumuzda.Her mevsim namın kalır, unutulsa da adın.İlkbahardan sonra, beşinci mevsimdir Kadın...\")"
   ]
  },
  {
   "cell_type": "code",
   "execution_count": 30,
   "id": "3fb2350a-892b-443f-ae2f-3660019a36e1",
   "metadata": {},
   "outputs": [
    {
     "name": "stdout",
     "output_type": "stream",
     "text": [
      "rumeysa\tkaykısız\n"
     ]
    }
   ],
   "source": [
    "print(\"rumeysa\\tkaykısız\") #iki kelime arasında bir tab lık \\t boşluk bıraktı."
   ]
  },
  {
   "cell_type": "code",
   "execution_count": null,
   "id": "da5dab83-c386-45fc-bf69-53d8cb4aaffe",
   "metadata": {},
   "outputs": [],
   "source": []
  },
  {
   "cell_type": "markdown",
   "id": "c636b3ed-7fd2-4a4e-be3b-aaa0eea50a13",
   "metadata": {},
   "source": [
    "INDEX"
   ]
  },
  {
   "cell_type": "code",
   "execution_count": 34,
   "id": "5949031d-d748-40df-a328-42a748ce7d5f",
   "metadata": {},
   "outputs": [],
   "source": [
    "myString=\"hava soguktur\"\n"
   ]
  },
  {
   "cell_type": "code",
   "execution_count": 36,
   "id": "a75a4514-74a2-4c94-a637-9795647d9b47",
   "metadata": {},
   "outputs": [
    {
     "data": {
      "text/plain": [
       "'s'"
      ]
     },
     "execution_count": 36,
     "metadata": {},
     "output_type": "execute_result"
    }
   ],
   "source": [
    "myString[5] # indexini yani elamanını buluyoruz h harfi 0. eleman olarak başlar ve 0 dan ....n e kadar gider boşluklar da sayılır. köşeli parantezle [] gösterilir."
   ]
  },
  {
   "cell_type": "code",
   "execution_count": 39,
   "id": "9e73fb21-c161-4482-bc13-beeb4dd73b42",
   "metadata": {},
   "outputs": [
    {
     "data": {
      "text/plain": [
       "'h'"
      ]
     },
     "execution_count": 39,
     "metadata": {},
     "output_type": "execute_result"
    }
   ],
   "source": [
    "myString[0] #örnek"
   ]
  },
  {
   "cell_type": "code",
   "execution_count": 41,
   "id": "9e4c714e-1368-4484-b3d4-7024160e3772",
   "metadata": {},
   "outputs": [
    {
     "data": {
      "text/plain": [
       "' '"
      ]
     },
     "execution_count": 41,
     "metadata": {},
     "output_type": "execute_result"
    }
   ],
   "source": [
    "myString[4]  #4. eleman boştur."
   ]
  },
  {
   "cell_type": "markdown",
   "id": "71cd2e10-c3ad-4248-9384-b7350b82d559",
   "metadata": {},
   "source": [
    "Son Indexi Bulma"
   ]
  },
  {
   "cell_type": "code",
   "execution_count": 44,
   "id": "90d86e11-5aae-49fe-8500-7e3344e15ff2",
   "metadata": {},
   "outputs": [
    {
     "data": {
      "text/plain": [
       "13"
      ]
     },
     "execution_count": 44,
     "metadata": {},
     "output_type": "execute_result"
    }
   ],
   "source": [
    "len(myString) #Bütün uzunluğunu verdi"
   ]
  },
  {
   "cell_type": "code",
   "execution_count": 46,
   "id": "218c36ba-a83c-47db-995f-15283bc72655",
   "metadata": {},
   "outputs": [
    {
     "data": {
      "text/plain": [
       "12"
      ]
     },
     "execution_count": 46,
     "metadata": {},
     "output_type": "execute_result"
    }
   ],
   "source": [
    "len(myString)-1 #son elemanı bulmak için gireceğimiz indexi verir:\n"
   ]
  },
  {
   "cell_type": "code",
   "execution_count": 48,
   "id": "b822c02b-9097-44ac-8199-f703ef013bdf",
   "metadata": {},
   "outputs": [
    {
     "data": {
      "text/plain": [
       "'r'"
      ]
     },
     "execution_count": 48,
     "metadata": {},
     "output_type": "execute_result"
    }
   ],
   "source": [
    "myString[12] #Son elamanı bulduk"
   ]
  },
  {
   "cell_type": "markdown",
   "id": "71a333d1-e5b9-4e6e-8611-7d41ccfeb627",
   "metadata": {},
   "source": [
    "DÜZENLENMİŞ HALİ (Son Harfi Bulmanın)"
   ]
  },
  {
   "cell_type": "code",
   "execution_count": 50,
   "id": "15a57cf5-6c38-484d-b3f2-36f54bc6d983",
   "metadata": {},
   "outputs": [
    {
     "data": {
      "text/plain": [
       "'r'"
      ]
     },
     "execution_count": 50,
     "metadata": {},
     "output_type": "execute_result"
    }
   ],
   "source": [
    "myString[len(myString)-1]  "
   ]
  },
  {
   "cell_type": "markdown",
   "id": "93ad9e7e-240e-401b-abf1-e8a27987f24d",
   "metadata": {},
   "source": [
    "KISAYOLU "
   ]
  },
  {
   "cell_type": "code",
   "execution_count": 53,
   "id": "25355a68-ba98-4f6e-a6d1-b96bfd082f63",
   "metadata": {},
   "outputs": [
    {
     "data": {
      "text/plain": [
       "'r'"
      ]
     },
     "execution_count": 53,
     "metadata": {},
     "output_type": "execute_result"
    }
   ],
   "source": [
    "myString[-1]  #hepsinde geçerli köşeli parantez içinde -1 i çağırdığımızda son indexi verir. -2 vs yazdığımızda da sondan 1 önceki harfi verir."
   ]
  },
  {
   "cell_type": "code",
   "execution_count": 55,
   "id": "30cb0ec7-e259-470c-bed9-4821e06e0aa1",
   "metadata": {},
   "outputs": [],
   "source": [
    "fullname= \" rumeysa kaykisiz \""
   ]
  },
  {
   "cell_type": "code",
   "execution_count": 59,
   "id": "92c8a86c-9212-435d-a8f6-78543b61bbbb",
   "metadata": {},
   "outputs": [
    {
     "data": {
      "text/plain": [
       "' rumeysa kaykisiz  rumeysa kaykisiz  rumeysa kaykisiz '"
      ]
     },
     "execution_count": 59,
     "metadata": {},
     "output_type": "execute_result"
    }
   ],
   "source": [
    " fullname*3   #3 kere yazdırıyor "
   ]
  },
  {
   "cell_type": "code",
   "execution_count": 62,
   "id": "d5fa6641-c0d4-4c92-89c5-994ad8feda37",
   "metadata": {},
   "outputs": [
    {
     "data": {
      "text/plain": [
       "'aaaaaaaaaaaaaaa'"
      ]
     },
     "execution_count": 62,
     "metadata": {},
     "output_type": "execute_result"
    }
   ],
   "source": [
    "15*\"a\""
   ]
  },
  {
   "cell_type": "code",
   "execution_count": 63,
   "id": "8e8d2c91-e50d-4623-a8f9-342ef946b57f",
   "metadata": {},
   "outputs": [],
   "source": [
    "#Uzun değişkenlerin belirli bir kısmını almamız gerekiyorsa "
   ]
  },
  {
   "cell_type": "code",
   "execution_count": 65,
   "id": "a2604616-28e7-4cd9-a0d9-252c23f19085",
   "metadata": {},
   "outputs": [],
   "source": [
    "barcode = \"ABCDE154984165168\""
   ]
  },
  {
   "cell_type": "code",
   "execution_count": 66,
   "id": "0343d5f1-d87a-4779-b46f-b8ed7be6d8f3",
   "metadata": {},
   "outputs": [],
   "source": [
    "#slincing , starting index , stopping index , stepping index "
   ]
  },
  {
   "cell_type": "code",
   "execution_count": 67,
   "id": "a2620647-0f92-4718-8f3d-c5168de503b5",
   "metadata": {},
   "outputs": [
    {
     "data": {
      "text/plain": [
       "'ABCDE154984165168'"
      ]
     },
     "execution_count": 67,
     "metadata": {},
     "output_type": "execute_result"
    }
   ],
   "source": [
    "barcode "
   ]
  },
  {
   "cell_type": "code",
   "execution_count": 68,
   "id": "c2c44745-e1a6-4507-bf22-ae519c9078dd",
   "metadata": {},
   "outputs": [
    {
     "data": {
      "text/plain": [
       "'ABCDE154984165168'"
      ]
     },
     "execution_count": 68,
     "metadata": {},
     "output_type": "execute_result"
    }
   ],
   "source": [
    "barcode[::]"
   ]
  },
  {
   "cell_type": "code",
   "execution_count": 69,
   "id": "c4ffb806-cb73-4de9-b5da-b6711841d8c8",
   "metadata": {},
   "outputs": [],
   "source": [
    "#barcode[slicing:starting index:stopping index:stepping index]"
   ]
  },
  {
   "cell_type": "code",
   "execution_count": 73,
   "id": "3bc55cf5-5bae-4dc1-b5d6-2167b1383549",
   "metadata": {},
   "outputs": [
    {
     "data": {
      "text/plain": [
       "'E154984165168'"
      ]
     },
     "execution_count": 73,
     "metadata": {},
     "output_type": "execute_result"
    }
   ],
   "source": [
    "barcode[4::]  #4.indexten başla demek ( indexler 0 dan başlar!)"
   ]
  },
  {
   "cell_type": "code",
   "execution_count": 76,
   "id": "25e67703-1f54-4303-bce5-4a053e81bacd",
   "metadata": {},
   "outputs": [
    {
     "data": {
      "text/plain": [
       "'ABCD'"
      ]
     },
     "execution_count": 76,
     "metadata": {},
     "output_type": "execute_result"
    }
   ],
   "source": [
    "barcode[:4:] #4.indexte dur "
   ]
  },
  {
   "cell_type": "code",
   "execution_count": 80,
   "id": "6e11ed47-911a-4c65-8752-31bbfc001294",
   "metadata": {},
   "outputs": [
    {
     "data": {
      "text/plain": [
       "'AD5866'"
      ]
     },
     "execution_count": 80,
     "metadata": {},
     "output_type": "execute_result"
    }
   ],
   "source": [
    "barcode[::3]  # 3 er adım  atlayarak çalıştır"
   ]
  },
  {
   "cell_type": "code",
   "execution_count": 86,
   "id": "cc71db9a-33cd-4e05-ab7b-43ee2bc62cf1",
   "metadata": {},
   "outputs": [
    {
     "data": {
      "text/plain": [
       "'DE1'"
      ]
     },
     "execution_count": 86,
     "metadata": {},
     "output_type": "execute_result"
    }
   ],
   "source": [
    "barcode[3:6] # 3 ve 4. index arasını al "
   ]
  },
  {
   "cell_type": "code",
   "execution_count": 87,
   "id": "029fec3a-2d4f-41cb-b812-2da60a7ae61f",
   "metadata": {},
   "outputs": [
    {
     "data": {
      "text/plain": [
       "'ABCDE154984165168'"
      ]
     },
     "execution_count": 87,
     "metadata": {},
     "output_type": "execute_result"
    }
   ],
   "source": [
    "barcode"
   ]
  },
  {
   "cell_type": "code",
   "execution_count": 88,
   "id": "50e9a312-6047-4397-8b67-0d4fca83955c",
   "metadata": {},
   "outputs": [
    {
     "data": {
      "text/plain": [
       "'BD1'"
      ]
     },
     "execution_count": 88,
     "metadata": {},
     "output_type": "execute_result"
    }
   ],
   "source": [
    "barcode[1:6:2] #1.indexten başla 6 ya kadar git 2 şer atla 1. indexi \"B\" ,ilk 6 indexi ABCDE1,2 şer atlarsa \"BD1\""
   ]
  },
  {
   "cell_type": "code",
   "execution_count": 90,
   "id": "c46d08a1-2788-40e6-bcaf-426c2b2cdc32",
   "metadata": {},
   "outputs": [
    {
     "data": {
      "text/plain": [
       "'861561489451EDCBA'"
      ]
     },
     "execution_count": 90,
     "metadata": {},
     "output_type": "execute_result"
    }
   ],
   "source": [
    "barcode[::-1] #stringi ters çevirir,sondan başlar."
   ]
  },
  {
   "cell_type": "markdown",
   "id": "78707801-14b7-4225-8210-e35180c931a8",
   "metadata": {},
   "source": []
  },
  {
   "cell_type": "code",
   "execution_count": 91,
   "id": "fc5823b9-be1b-4aa8-b942-fef8d8295a0a",
   "metadata": {},
   "outputs": [],
   "source": [
    "name = \"rumeysa kaykisiz\""
   ]
  },
  {
   "cell_type": "code",
   "execution_count": 92,
   "id": "6e4b1a08-0479-4d93-8bcf-45432cbd5dfe",
   "metadata": {},
   "outputs": [
    {
     "data": {
      "text/plain": [
       "0"
      ]
     },
     "execution_count": 92,
     "metadata": {},
     "output_type": "execute_result"
    }
   ],
   "source": [
    "name.index(\"r\")"
   ]
  },
  {
   "cell_type": "code",
   "execution_count": null,
   "id": "b668741d-23d5-47b0-86db-2d783aa7d881",
   "metadata": {},
   "outputs": [],
   "source": [
    "a = input(\"enter a\")"
   ]
  },
  {
   "cell_type": "code",
   "execution_count": null,
   "id": "a3d56a61-fb4e-4979-82d6-c1c03c03dd40",
   "metadata": {},
   "outputs": [],
   "source": []
  }
 ],
 "metadata": {
  "kernelspec": {
   "display_name": "base",
   "language": "python",
   "name": "python3"
  },
  "language_info": {
   "codemirror_mode": {
    "name": "ipython",
    "version": 3
   },
   "file_extension": ".py",
   "mimetype": "text/x-python",
   "name": "python",
   "nbconvert_exporter": "python",
   "pygments_lexer": "ipython3",
   "version": "3.12.7"
  }
 },
 "nbformat": 4,
 "nbformat_minor": 5
}
