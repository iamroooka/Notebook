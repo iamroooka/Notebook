{
 "cells": [
  {
   "cell_type": "markdown",
   "metadata": {},
   "source": [
    "LOOPS (DÖNGÜLER)"
   ]
  },
  {
   "cell_type": "code",
   "execution_count": 60,
   "metadata": {},
   "outputs": [],
   "source": [
    "my_list = [10,20,30,50,75,85,99]     #Listemi oluşturdum ve listemin adını my_list yaptım"
   ]
  },
  {
   "cell_type": "code",
   "execution_count": 61,
   "metadata": {},
   "outputs": [
    {
     "name": "stdout",
     "output_type": "stream",
     "text": [
      "10\n",
      "20\n",
      "30\n",
      "50\n",
      "75\n",
      "85\n",
      "99\n"
     ]
    }
   ],
   "source": [
    "for num in  my_list :                #Listemdeki elemanları num llarak belirttim istediğim herhangi bir şey olarak da belirtebilirdim yani num yerine element number vs yazabilirdim fark etmezdi.\n",
    "    print(num)                       # For döngüsünü kullanarak şunu dedim ; Listemdeki her \"num\" için verdiğim komutu uygula (burada yazdırma komutu girdiğimiz için alt alta hepsini yazdırdı"
   ]
  },
  {
   "cell_type": "code",
   "execution_count": 62,
   "metadata": {},
   "outputs": [
    {
     "name": "stdout",
     "output_type": "stream",
     "text": [
      "50\n",
      "100\n",
      "150\n",
      "250\n",
      "375\n",
      "425\n",
      "495\n"
     ]
    }
   ],
   "source": [
    "for num in my_list:\n",
    "    print(num*5)            #Listemdeki her elemanı 5 ile çarpılmış haliyle yazdır "
   ]
  },
  {
   "cell_type": "code",
   "execution_count": 63,
   "metadata": {},
   "outputs": [
    {
     "name": "stdout",
     "output_type": "stream",
     "text": [
      "3.3333333333333335\n",
      "6.666666666666667\n",
      "10.0\n",
      "16.666666666666668\n",
      "25.0\n",
      "28.333333333333332\n",
      "33.0\n"
     ]
    }
   ],
   "source": [
    "for num in my_list:\n",
    "    print(num/3)          #Listemdeki her elemanı 3 ile bölünmüş halini yazdır "
   ]
  },
  {
   "cell_type": "code",
   "execution_count": 64,
   "metadata": {},
   "outputs": [
    {
     "name": "stdout",
     "output_type": "stream",
     "text": [
      "4.0\n",
      "8.0\n",
      "12.0\n",
      "20.0\n",
      "30.0\n",
      "34.0\n",
      "39.6\n"
     ]
    }
   ],
   "source": [
    "for num in my_list:        #Listemdeki her elemanı 5*2 ye böl ve yazdır \n",
    "    print(num/5*2)"
   ]
  },
  {
   "cell_type": "code",
   "execution_count": 65,
   "metadata": {},
   "outputs": [
    {
     "name": "stdout",
     "output_type": "stream",
     "text": [
      "50.0\n",
      "100.0\n",
      "150.0\n",
      "250.0\n",
      "375.0\n",
      "425.0\n",
      "495.0\n"
     ]
    }
   ],
   "source": [
    "for sayi in my_list:     #Yukarıdakinden farklı olarak num yerine sayi kullandım yine de aynı işlemi uyguladı \n",
    "    new_list = sayi*10/2 \n",
    "    print(new_list)"
   ]
  },
  {
   "cell_type": "code",
   "execution_count": 66,
   "metadata": {},
   "outputs": [
    {
     "name": "stdout",
     "output_type": "stream",
     "text": [
      "30\n",
      "75\n",
      "99\n"
     ]
    }
   ],
   "source": [
    "for sayi in my_list:\n",
    "    \n",
    "    if sayi %3 == 0:    #Listemdeki sayılardan 3 ile bölümünden kalan 0 olanalrı yazdır \n",
    "        \n",
    "        print(sayi)"
   ]
  },
  {
   "cell_type": "code",
   "execution_count": 67,
   "metadata": {},
   "outputs": [
    {
     "data": {
      "text/plain": [
       "[10, 20, 30, 50, 75, 85, 99]"
      ]
     },
     "execution_count": 67,
     "metadata": {},
     "output_type": "execute_result"
    }
   ],
   "source": [
    "my_list"
   ]
  },
  {
   "cell_type": "code",
   "execution_count": 68,
   "metadata": {},
   "outputs": [
    {
     "name": "stdout",
     "output_type": "stream",
     "text": [
      "10 :Bu sayı çift sayıdır\n",
      "20 :Bu sayı çift sayıdır\n",
      "30 :Bu sayı çift sayıdır\n",
      "50 :Bu sayı çift sayıdır\n"
     ]
    }
   ],
   "source": [
    "for num in my_list:\n",
    "    if num %2 == 0:\n",
    "        print(num,\":Bu sayı çift sayıdır\")    #Çift sayıları yazdırdım "
   ]
  },
  {
   "cell_type": "markdown",
   "metadata": {},
   "source": [
    "FOR DÖNGÜSÜ"
   ]
  },
  {
   "cell_type": "code",
   "execution_count": 69,
   "metadata": {},
   "outputs": [],
   "source": [
    "my_string= (\"RUMEYSA KAYKISIZ\")"
   ]
  },
  {
   "cell_type": "code",
   "execution_count": 70,
   "metadata": {},
   "outputs": [
    {
     "name": "stdout",
     "output_type": "stream",
     "text": [
      "R\n",
      "U\n",
      "M\n",
      "E\n",
      "Y\n",
      "S\n",
      "A\n",
      " \n",
      "K\n",
      "A\n",
      "Y\n",
      "K\n",
      "I\n",
      "S\n",
      "I\n",
      "Z\n"
     ]
    }
   ],
   "source": [
    "for chr in my_string:\n",
    "    print(chr)"
   ]
  },
  {
   "cell_type": "code",
   "execution_count": 71,
   "metadata": {},
   "outputs": [],
   "source": [
    "my_new_list = [(\"R\",\"K\"),(\"K\",\"Y\"),(\"S\",\"A\"),(\"L\",\"M\")]"
   ]
  },
  {
   "cell_type": "code",
   "execution_count": 72,
   "metadata": {},
   "outputs": [
    {
     "data": {
      "text/plain": [
       "4"
      ]
     },
     "execution_count": 72,
     "metadata": {},
     "output_type": "execute_result"
    }
   ],
   "source": [
    "len(my_new_list)"
   ]
  },
  {
   "cell_type": "code",
   "execution_count": 73,
   "metadata": {},
   "outputs": [
    {
     "data": {
      "text/plain": [
       "('R', 'K')"
      ]
     },
     "execution_count": 73,
     "metadata": {},
     "output_type": "execute_result"
    }
   ],
   "source": [
    "my_new_list[0]"
   ]
  },
  {
   "cell_type": "code",
   "execution_count": 74,
   "metadata": {},
   "outputs": [
    {
     "name": "stdout",
     "output_type": "stream",
     "text": [
      "('R', 'K')\n",
      "('K', 'Y')\n",
      "('S', 'A')\n",
      "('L', 'M')\n"
     ]
    }
   ],
   "source": [
    "for element in my_new_list:\n",
    "    print(element)"
   ]
  },
  {
   "cell_type": "code",
   "execution_count": 75,
   "metadata": {},
   "outputs": [
    {
     "data": {
      "text/plain": [
       "'K'"
      ]
     },
     "execution_count": 75,
     "metadata": {},
     "output_type": "execute_result"
    }
   ],
   "source": [
    "my_new_list[0][1]    #0.indexteki yani 1.elemanın içindeki 1.indexi yani 2. elemanı çağırdık "
   ]
  },
  {
   "cell_type": "code",
   "execution_count": 76,
   "metadata": {},
   "outputs": [
    {
     "name": "stdout",
     "output_type": "stream",
     "text": [
      "R\n",
      "K\n",
      "S\n",
      "L\n"
     ]
    }
   ],
   "source": [
    "for (x,y) in my_new_list:    #ilk indexlere x, 2. indexlere y dedik ve bize x leri yani listemin içindeki mini listelerdeki x e denk gelen ilk elemanları 0.indexleri yazdırdık\n",
    "    print(x)                  "
   ]
  },
  {
   "cell_type": "code",
   "execution_count": 77,
   "metadata": {},
   "outputs": [
    {
     "name": "stdout",
     "output_type": "stream",
     "text": [
      "K :Mini listendeki ikinci elemanlar\n",
      "\n",
      "Y :Mini listendeki ikinci elemanlar\n",
      "\n",
      "A :Mini listendeki ikinci elemanlar\n",
      "\n",
      "M :Mini listendeki ikinci elemanlar\n",
      "\n"
     ]
    }
   ],
   "source": [
    "for (x,y)in my_new_list:\n",
    "    print(y,\":Mini listendeki ikinci elemanlar\\n\")"
   ]
  },
  {
   "cell_type": "code",
   "execution_count": null,
   "metadata": {},
   "outputs": [],
   "source": []
  },
  {
   "cell_type": "markdown",
   "metadata": {},
   "source": [
    "DICTIONARY DE KULLANIMI"
   ]
  },
  {
   "cell_type": "code",
   "execution_count": 78,
   "metadata": {},
   "outputs": [],
   "source": [
    "my_dic = {\"R1\":15,\"R2\":25,\"R3\":35,\"R4\":40}"
   ]
  },
  {
   "cell_type": "code",
   "execution_count": 79,
   "metadata": {},
   "outputs": [
    {
     "name": "stdout",
     "output_type": "stream",
     "text": [
      "15\n",
      "25\n",
      "35\n",
      "40\n"
     ]
    }
   ],
   "source": [
    "for dic in  my_dic.values():   #Dic( sözlük)içindeki values yani değerleri yazdırttık (aynısının keys versiyonunu da yapabiliriz)\n",
    "    print(dic)"
   ]
  },
  {
   "cell_type": "code",
   "execution_count": 80,
   "metadata": {},
   "outputs": [
    {
     "data": {
      "text/plain": [
       "dict_items([('R1', 15), ('R2', 25), ('R3', 35), ('R4', 40)])"
      ]
     },
     "execution_count": 80,
     "metadata": {},
     "output_type": "execute_result"
    }
   ],
   "source": [
    "my_dic.items()   # Sözlüğümüzü birnevi liste haline getirdik "
   ]
  },
  {
   "cell_type": "code",
   "execution_count": 81,
   "metadata": {},
   "outputs": [
    {
     "name": "stdout",
     "output_type": "stream",
     "text": [
      "('R1', 15)\n",
      "('R2', 25)\n",
      "('R3', 35)\n",
      "('R4', 40)\n"
     ]
    }
   ],
   "source": [
    "for dic1 in my_dic.items():  #Liste haline dönüştürdüğümüz sözlüklteki elemanlarımızı yazdırdık.\n",
    "    print(dic1)"
   ]
  },
  {
   "cell_type": "code",
   "execution_count": 82,
   "metadata": {},
   "outputs": [
    {
     "name": "stdout",
     "output_type": "stream",
     "text": [
      "R1\n",
      "R2\n",
      "R3\n",
      "R4\n"
     ]
    }
   ],
   "source": [
    "for (x,y) in my_dic.items():\n",
    "    print(x)                   #Liste haline dönüştürdüğümüz sözlükteki elemanlarımızın(mini liste de diyebiliriz) x yani ilk elemanlarını (indexlerini)yazdırdık"
   ]
  },
  {
   "cell_type": "code",
   "execution_count": 83,
   "metadata": {},
   "outputs": [],
   "source": [
    "my_num_list = [10,20,30,40,50,60,700,80,90,100]"
   ]
  },
  {
   "cell_type": "code",
   "execution_count": 84,
   "metadata": {},
   "outputs": [
    {
     "name": "stdout",
     "output_type": "stream",
     "text": [
      "10\n",
      "20\n",
      "30\n",
      "40\n",
      "Hedefe ulaştınız\n",
      "50\n",
      "60\n",
      "700\n",
      "80\n",
      "90\n",
      "100\n"
     ]
    }
   ],
   "source": [
    "for num1 in my_num_list:\n",
    "    print(num1)                            #İlk olarak my_num_list içindeki sayılarımızı teker teker yazdırdık\n",
    "    if num1 == 40:                         #Eğer num1 i.indeki sayılardan 40 a eşit olan varsa \n",
    "        print(\"Hedefe ulaştınız\")          #hedefe ulaştınız yazdır dedik"
   ]
  },
  {
   "cell_type": "code",
   "execution_count": 85,
   "metadata": {},
   "outputs": [
    {
     "name": "stdout",
     "output_type": "stream",
     "text": [
      "10\n",
      "20\n",
      "30\n",
      "40\n",
      "Hedefe ulaştınız\n"
     ]
    }
   ],
   "source": [
    "for num1 in my_num_list:\n",
    "    print(num1)                            #İlk olarak my_num_list içindeki sayılarımızı teker teker yazdırdık\n",
    "    if num1 == 40:                         #Eğer num1 i.indeki sayılardan 40 a eşit olan varsa  \n",
    "        print(\"Hedefe ulaştınız\")          #Hedefe ulaştınız yazdır dedik\n",
    "        break                              #Ve bundan sonra döngüye devam etme burada bırak "
   ]
  },
  {
   "cell_type": "code",
   "execution_count": 86,
   "metadata": {},
   "outputs": [
    {
     "name": "stdout",
     "output_type": "stream",
     "text": [
      "10\n",
      "20\n",
      "30\n",
      "40\n",
      "Hedefe ulaştınız\n",
      "50\n",
      "60\n",
      "700\n",
      "80\n",
      "90\n",
      "100\n"
     ]
    }
   ],
   "source": [
    "for num1 in my_num_list:\n",
    "    print(num1)                            #İlk olarak my_num_list içindeki sayılarımızı teker teker yazdırdık\n",
    "    if num1 == 40:                         #Eğer num1 i.indeki sayılardan 40 a eşit olan varsa  \n",
    "        print(\"Hedefe ulaştınız\")          #Hedefe ulaştınız yazdır dedik\n",
    "        continue                           #Ve bundan sonra döngüye devam et "
   ]
  },
  {
   "cell_type": "code",
   "execution_count": 87,
   "metadata": {},
   "outputs": [],
   "source": [
    "my_list1 = [1,2,3,4,5,74]"
   ]
  },
  {
   "cell_type": "code",
   "execution_count": 88,
   "metadata": {},
   "outputs": [
    {
     "name": "stdout",
     "output_type": "stream",
     "text": [
      "10 sayınızın 10 katı\n",
      "20 sayınızın 10 katı\n",
      "30 sayınızın 10 katı\n",
      "40 sayınızın 10 katı\n",
      "50 sayınızın 10 katı\n",
      "740 sayınızın 10 katı\n"
     ]
    }
   ],
   "source": [
    "for num2 in my_list1:\n",
    "    print(num2 *5*2, \"sayınızın 10 katı\")"
   ]
  },
  {
   "cell_type": "code",
   "execution_count": 89,
   "metadata": {},
   "outputs": [
    {
     "name": "stdout",
     "output_type": "stream",
     "text": [
      "1\n",
      "2\n",
      "3\n",
      "5\n",
      "74\n"
     ]
    }
   ],
   "source": [
    "for num2 in my_list1:\n",
    "  \n",
    "    if num2 == 4:           # 4 hariç listemdeki bütünn sayıları yazdırdım\n",
    "        continue\n",
    "    print(num2)\n",
    "    \n"
   ]
  },
  {
   "cell_type": "code",
   "execution_count": 90,
   "metadata": {},
   "outputs": [],
   "source": [
    "for num2 in my_list1:\n",
    "    pass                         #Başkka bir kodu yazıp geri dönebilmek için kullanırız "
   ]
  },
  {
   "cell_type": "code",
   "execution_count": null,
   "metadata": {},
   "outputs": [],
   "source": []
  },
  {
   "cell_type": "markdown",
   "metadata": {},
   "source": [
    "WHILE LOOPS\n"
   ]
  },
  {
   "cell_type": "code",
   "execution_count": 91,
   "metadata": {},
   "outputs": [],
   "source": [
    "num = 0"
   ]
  },
  {
   "cell_type": "code",
   "execution_count": 92,
   "metadata": {},
   "outputs": [
    {
     "name": "stdout",
     "output_type": "stream",
     "text": [
      "0\n",
      "1\n",
      "2\n",
      "3\n",
      "4\n",
      "5\n",
      "6\n",
      "7\n",
      "8\n",
      "9\n",
      "10\n",
      "11\n",
      "12\n",
      "13\n",
      "14\n"
     ]
    }
   ],
   "source": [
    "while num <15:\n",
    "    print(num)                    #num değişkenim 15 den küçük olduğu sürece 1 ekleyerek yazdır \n",
    "    num = num + 1"
   ]
  },
  {
   "cell_type": "code",
   "execution_count": 93,
   "metadata": {},
   "outputs": [],
   "source": [
    "last_list = [10,20,30,40]"
   ]
  },
  {
   "cell_type": "code",
   "execution_count": 94,
   "metadata": {},
   "outputs": [
    {
     "name": "stdout",
     "output_type": "stream",
     "text": [
      "lastlist : last_list\n"
     ]
    }
   ],
   "source": [
    "print(\"lastlist : last_list\")           #Burada aslında lastlist yazdığımda tanımladığım liste değerini yazdırmak istiyorum şu şekilde lastlist:[10,20,30,40] ama olmuyor "
   ]
  },
  {
   "cell_type": "code",
   "execution_count": 95,
   "metadata": {},
   "outputs": [
    {
     "name": "stdout",
     "output_type": "stream",
     "text": [
      "lastlist:[10, 20, 30, 40]\n"
     ]
    }
   ],
   "source": [
    "print(f\"lastlist:{last_list}\")          #Kodumunn başına \"f\" eklersem çıktımı istediğim şekilde alabilirim."
   ]
  },
  {
   "cell_type": "code",
   "execution_count": 96,
   "metadata": {},
   "outputs": [],
   "source": [
    "name = input (\"enter name :\")          #Kullanıcıdan bir girdi istedim ( buradan tercihen isim girmesini istiyorum)"
   ]
  },
  {
   "cell_type": "code",
   "execution_count": 97,
   "metadata": {},
   "outputs": [
    {
     "name": "stdout",
     "output_type": "stream",
     "text": [
      "HOŞ GELDİN HERA\n"
     ]
    }
   ],
   "source": [
    "print(f\"HOŞ GELDİN {name}\")          #Yukarıdaki koda kullanıcı ne girerse başına HOŞ GELDİN ekleyerek yazdırıyorum kullanıcı istediği ismi üstteki koda girmekte serbest "
   ]
  },
  {
   "cell_type": "code",
   "execution_count": 98,
   "metadata": {},
   "outputs": [],
   "source": [
    "#ÜSTTEKİ İŞLEMİN (\"f\"li kullanımın) DİĞER YOLU "
   ]
  },
  {
   "cell_type": "code",
   "execution_count": 99,
   "metadata": {},
   "outputs": [],
   "source": [
    "list5 = [1,2,3,4,5]"
   ]
  },
  {
   "cell_type": "code",
   "execution_count": 100,
   "metadata": {},
   "outputs": [
    {
     "name": "stdout",
     "output_type": "stream",
     "text": [
      "List5= [1, 2, 3, 4, 5]\n"
     ]
    }
   ],
   "source": [
    "print(\"List5=\",list5)           #\"f\"kullanmadan bu şekilde de yapabiliriz ama iki yolu da bilmek gerekiyor."
   ]
  },
  {
   "cell_type": "code",
   "execution_count": 114,
   "metadata": {},
   "outputs": [],
   "source": [
    "a = 0"
   ]
  },
  {
   "cell_type": "code",
   "execution_count": 115,
   "metadata": {},
   "outputs": [
    {
     "name": "stdout",
     "output_type": "stream",
     "text": [
      "a nın değeri:0\n",
      "a nın değeri:1\n",
      "a nın değeri:2\n",
      "a nın değeri:3\n",
      "a nın değeri:4\n",
      "a nın değeri:5\n",
      "a nın değeri:6\n",
      "a nın değeri:7\n",
      "a nın değeri:8\n",
      "a nın değeri:9\n",
      "a nın değeri:10\n",
      "a nın değeri:11\n",
      "a nın değeri:12\n",
      "a nın değeri:13\n",
      "a nın değeri:14\n"
     ]
    }
   ],
   "source": [
    "while a < 15:\n",
    "      \n",
    "      print(f\"a nın değeri:{a}\")   \n",
    "      a +=1"
   ]
  },
  {
   "cell_type": "code",
   "execution_count": null,
   "metadata": {},
   "outputs": [],
   "source": []
  }
 ],
 "metadata": {
  "kernelspec": {
   "display_name": "base",
   "language": "python",
   "name": "python3"
  },
  "language_info": {
   "codemirror_mode": {
    "name": "ipython",
    "version": 3
   },
   "file_extension": ".py",
   "mimetype": "text/x-python",
   "name": "python",
   "nbconvert_exporter": "python",
   "pygments_lexer": "ipython3",
   "version": "3.12.7"
  }
 },
 "nbformat": 4,
 "nbformat_minor": 2
}
