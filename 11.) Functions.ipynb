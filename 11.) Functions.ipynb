{
 "cells": [
  {
   "cell_type": "code",
   "execution_count": 21,
   "metadata": {},
   "outputs": [],
   "source": [
    "def hello_python():\n",
    "    print(\"MERHABA\")               #hello_python değişkenimiz fonksiyondur ve fonksiyonumuzun içerisinde yazdırmak istediklerimizi belirtiyoruz\n",
    "    print(\"DÜNYA\")\n",
    "   "
   ]
  },
  {
   "cell_type": "code",
   "execution_count": 22,
   "metadata": {},
   "outputs": [
    {
     "data": {
      "text/plain": [
       "<function __main__.hello_python()>"
      ]
     },
     "execution_count": 22,
     "metadata": {},
     "output_type": "execute_result"
    }
   ],
   "source": [
    "hello_python                     #hello_python bir fonksiyon old için ()parantez koyarak çağırabiliriz "
   ]
  },
  {
   "cell_type": "code",
   "execution_count": 23,
   "metadata": {},
   "outputs": [
    {
     "name": "stdout",
     "output_type": "stream",
     "text": [
      "MERHABA\n",
      "DÜNYA\n"
     ]
    }
   ],
   "source": [
    "hello_python()              # fonksiyonumuzu çağırıyoruz "
   ]
  },
  {
   "cell_type": "code",
   "execution_count": 24,
   "metadata": {},
   "outputs": [],
   "source": [
    "def sum_ex(num1,num2):                          # sum_ex isimli fonk. içerisine iki adet girdi alanı bıraktık\n",
    "\n",
    "    print(num1+num2)                            # ve yazdırırken bu girdilerin toplanarak yazılmasını istedik"
   ]
  },
  {
   "cell_type": "code",
   "execution_count": 25,
   "metadata": {},
   "outputs": [
    {
     "name": "stdout",
     "output_type": "stream",
     "text": [
      "15\n"
     ]
    }
   ],
   "source": [
    "sum_ex(5,10)                                   #Girdilerimiz tamamen isteğe bağlı olarak değişkenlik gösterebilir , bu fonksiyonun  \n",
    "                                               # çıktısını istediğimizde ise yukarıda yaptırdığımız sonucu alırız yani bu girdilerin toplamlarını bize yazdırır"
   ]
  },
  {
   "cell_type": "code",
   "execution_count": 26,
   "metadata": {},
   "outputs": [
    {
     "name": "stdout",
     "output_type": "stream",
     "text": [
      "74\n"
     ]
    }
   ],
   "source": [
    "sum_ex(20,54)                                #num1 ve num2 yerine daha farklı değerler verilmiş ve farklı sonuç alınmış "
   ]
  },
  {
   "cell_type": "code",
   "execution_count": 27,
   "metadata": {},
   "outputs": [],
   "source": [
    "def user_name(name):                        # user_name isimli fonksiyonun içine girdi olarak name adlı bir değişken atadık\n",
    "    print(\"WELCOME\")                        # Fonk çalıştırırken WELCOME yazısının yazılmasını istedik\n",
    "    print(name)                             # name olarak belirlediğimiz değişkeni yazdırmasını istedik"
   ]
  },
  {
   "cell_type": "code",
   "execution_count": 28,
   "metadata": {},
   "outputs": [
    {
     "name": "stdout",
     "output_type": "stream",
     "text": [
      "WELCOME\n",
      "HERA\n"
     ]
    }
   ],
   "source": [
    "user_name(\"HERA\")            #user_name fonksiyonun içinde tanımlamış olduğumuz name in girdisini  HERA olarak aldık yani  name = HERA demek istedik kodu çalıştırdığımızda da iki print komutunu da alt alta şekilde bize yazdırdı."
   ]
  },
  {
   "cell_type": "code",
   "execution_count": 29,
   "metadata": {},
   "outputs": [
    {
     "name": "stdout",
     "output_type": "stream",
     "text": [
      "WELCOME\n",
      "RUMEYSA\n"
     ]
    }
   ],
   "source": [
    "user_name(\"RUMEYSA\")         # burada ise name değişkenimizi RUMEYSA olarak girdik çıktımızı da buna göre aldık"
   ]
  },
  {
   "cell_type": "code",
   "execution_count": 30,
   "metadata": {},
   "outputs": [],
   "source": [
    "def return_sum(num1 , num2 ,num3):\n",
    "    print(num1+num2+num3)"
   ]
  },
  {
   "cell_type": "code",
   "execution_count": 33,
   "metadata": {},
   "outputs": [
    {
     "name": "stdout",
     "output_type": "stream",
     "text": [
      "60\n"
     ]
    }
   ],
   "source": [
    "return_sum(10,20,30)                    "
   ]
  },
  {
   "cell_type": "code",
   "execution_count": 35,
   "metadata": {},
   "outputs": [
    {
     "name": "stdout",
     "output_type": "stream",
     "text": [
      "60\n"
     ]
    }
   ],
   "source": [
    "x = return_sum(10,20,30)            # return_sum fonksiyonumu x e eşitlediğimi düşünüyorum ama x i çağırdığımda bu sonucu alammıyorum çünkü return_sum fonksiyonu bir döngü değil sadece yazdırıyor "
   ]
  },
  {
   "cell_type": "code",
   "execution_count": 37,
   "metadata": {},
   "outputs": [],
   "source": [
    "x                           # x return_sum fonksiyonuma eşitlenmemiş  "
   ]
  },
  {
   "cell_type": "code",
   "execution_count": 39,
   "metadata": {},
   "outputs": [
    {
     "data": {
      "text/plain": [
       "NoneType"
      ]
     },
     "execution_count": 39,
     "metadata": {},
     "output_type": "execute_result"
    }
   ],
   "source": [
    "type(x)              # x değişkenini boş olarak görüyor yani bir değer atanmamış diyor"
   ]
  },
  {
   "cell_type": "code",
   "execution_count": 50,
   "metadata": {},
   "outputs": [],
   "source": [
    "def return_sum2(x,y,z):\n",
    "    result = x+y+z\n",
    "    print(result)\n",
    "    return result                   # Fonksiyonumuz döngüde olduğu için "
   ]
  },
  {
   "cell_type": "code",
   "execution_count": 51,
   "metadata": {},
   "outputs": [
    {
     "name": "stdout",
     "output_type": "stream",
     "text": [
      "120\n"
     ]
    }
   ],
   "source": [
    "a = return_sum2(10,40,70)            # a değişkenine atadık"
   ]
  },
  {
   "cell_type": "code",
   "execution_count": 66,
   "metadata": {},
   "outputs": [
    {
     "data": {
      "text/plain": [
       "120"
      ]
     },
     "execution_count": 66,
     "metadata": {},
     "output_type": "execute_result"
    }
   ],
   "source": [
    "a"
   ]
  },
  {
   "cell_type": "code",
   "execution_count": 98,
   "metadata": {},
   "outputs": [],
   "source": [
    "def controll_str(s):\n",
    "    if s[0] == \"b\" :                  # eğer ilk index b ise \"baş harfi b\" yazdır\n",
    "        print(\"Baş harfi b\")\n",
    "    elif s[1]==\"a\":                   # eğer 2. indexi a ise \"ikinci harfi a\" yazdır\n",
    "        print(\"İkinci harfi a\") \n",
    "\n",
    "    if s[0] !=\"b\":                    # eğer ilk index b değilse \"Baş harfi b değil\" yazdır\n",
    "        print(\"Baş harfi b değil\")\n",
    "    \n",
    "    if s[0] != \"b\" and s[1] != \"a\":\n",
    "        print(\"Girdiğin kelime kriterleri karşılamıyor\")\n",
    "\n",
    "\n",
    "\n"
   ]
  },
  {
   "cell_type": "code",
   "execution_count": 99,
   "metadata": {},
   "outputs": [
    {
     "name": "stdout",
     "output_type": "stream",
     "text": [
      "Baş harfi b\n"
     ]
    }
   ],
   "source": [
    "controll_str(\"baş\")"
   ]
  },
  {
   "cell_type": "code",
   "execution_count": 100,
   "metadata": {},
   "outputs": [
    {
     "name": "stdout",
     "output_type": "stream",
     "text": [
      "Baş harfi b\n"
     ]
    }
   ],
   "source": [
    "controll_str(\"balık\")"
   ]
  },
  {
   "cell_type": "code",
   "execution_count": 101,
   "metadata": {},
   "outputs": [
    {
     "name": "stdout",
     "output_type": "stream",
     "text": [
      "İkinci harfi a\n",
      "Baş harfi b değil\n"
     ]
    }
   ],
   "source": [
    "controll_str(\"tarla\")"
   ]
  },
  {
   "cell_type": "code",
   "execution_count": 102,
   "metadata": {},
   "outputs": [
    {
     "name": "stdout",
     "output_type": "stream",
     "text": [
      "Baş harfi b değil\n",
      "Girdiğin kelime kriterleri karşılamıyor\n"
     ]
    }
   ],
   "source": [
    "controll_str(\"kirli\")"
   ]
  },
  {
   "cell_type": "markdown",
   "metadata": {},
   "source": [
    "OPSİYONEL"
   ]
  },
  {
   "cell_type": "code",
   "execution_count": 103,
   "metadata": {},
   "outputs": [],
   "source": [
    "def controll_str2(s):\n",
    "    kriter_saglandi = False  # Başlangıçta hiçbir kriter sağlanmadı varsayılır\n",
    "\n",
    "    if s[0] == \"b\":  \n",
    "        print(\"Baş harfi b\")\n",
    "        kriter_saglandi = True  # Eğer bu koşul sağlanırsa, flag'i True yapıyoruz\n",
    "    elif s[1] == \"a\":  \n",
    "        print(\"İkinci harfi a\")\n",
    "        kriter_saglandi = True\n",
    "\n",
    "    if not kriter_saglandi:  # Eğer yukarıdaki kriterlerden hiçbiri sağlanmadıysa\n",
    "        print(\"Bu kelime kriterleri karşılamıyor\")\n",
    "\n"
   ]
  },
  {
   "cell_type": "code",
   "execution_count": 104,
   "metadata": {},
   "outputs": [
    {
     "name": "stdout",
     "output_type": "stream",
     "text": [
      "İkinci harfi a\n"
     ]
    }
   ],
   "source": [
    "controll_str2(\"yavru\")"
   ]
  },
  {
   "cell_type": "code",
   "execution_count": 105,
   "metadata": {},
   "outputs": [
    {
     "name": "stdout",
     "output_type": "stream",
     "text": [
      "Bu kelime kriterleri karşılamıyor\n"
     ]
    }
   ],
   "source": [
    "controll_str2(\"zil\")"
   ]
  },
  {
   "cell_type": "code",
   "execution_count": null,
   "metadata": {},
   "outputs": [],
   "source": [
    "def args_sum(*args):\n",
    "    return sum(args)                     # Fonksiyon içine girdiğimiz argumanları toplamaya yarar \n"
   ]
  },
  {
   "cell_type": "code",
   "execution_count": null,
   "metadata": {},
   "outputs": [
    {
     "data": {
      "text/plain": [
       "927"
      ]
     },
     "execution_count": 10,
     "metadata": {},
     "output_type": "execute_result"
    }
   ],
   "source": [
    "args_sum(14,54,74,785)                  #Args bir değişkendir yani args_sum fonksiyonunun içine args yerine ne girersek girilen sayıya göre çıktı alırız "
   ]
  },
  {
   "cell_type": "code",
   "execution_count": null,
   "metadata": {},
   "outputs": [
    {
     "data": {
      "text/plain": [
       "450"
      ]
     },
     "execution_count": 11,
     "metadata": {},
     "output_type": "execute_result"
    }
   ],
   "source": [
    "args_sum(10,20,30,40,50,60,70,80,90)  #"
   ]
  },
  {
   "cell_type": "code",
   "execution_count": 8,
   "metadata": {},
   "outputs": [],
   "source": [
    "def args_example(*args):\n",
    "    print(args)"
   ]
  },
  {
   "cell_type": "code",
   "execution_count": 9,
   "metadata": {},
   "outputs": [
    {
     "name": "stdout",
     "output_type": "stream",
     "text": [
      "(1, 2, 5265, 78, 85, 74632)\n"
     ]
    }
   ],
   "source": [
    "args_example(1,2,5265,78,85,74632)"
   ]
  },
  {
   "cell_type": "code",
   "execution_count": null,
   "metadata": {},
   "outputs": [],
   "source": []
  },
  {
   "cell_type": "code",
   "execution_count": 13,
   "metadata": {},
   "outputs": [],
   "source": [
    "def kwargs_args(**kwargs):\n",
    "    print(kwargs)"
   ]
  },
  {
   "cell_type": "code",
   "execution_count": null,
   "metadata": {},
   "outputs": [
    {
     "name": "stdout",
     "output_type": "stream",
     "text": [
      "{'cherry': 100, 'banana': 236, 'melon': 300}\n"
     ]
    }
   ],
   "source": [
    "kwargs_args(cherry=100,banana=236,melon=300)        #Sözlük yapısına dönüştürmek için kullanırız "
   ]
  },
  {
   "cell_type": "code",
   "execution_count": 21,
   "metadata": {},
   "outputs": [],
   "source": [
    "def kwargs_args(**kwargs):\n",
    "    if \"apple\" in kwargs:\n",
    "        print(\"in apple \")\n",
    "    else:\n",
    "        \n",
    "        print(\"sorry\")         \n",
    "    "
   ]
  },
  {
   "cell_type": "code",
   "execution_count": 22,
   "metadata": {},
   "outputs": [
    {
     "name": "stdout",
     "output_type": "stream",
     "text": [
      "in apple \n"
     ]
    }
   ],
   "source": [
    "kwargs_args(apple=100,melon=254)"
   ]
  },
  {
   "cell_type": "code",
   "execution_count": 23,
   "metadata": {},
   "outputs": [
    {
     "name": "stdout",
     "output_type": "stream",
     "text": [
      "sorry\n"
     ]
    }
   ],
   "source": [
    "kwargs_args(banana=456,cherry=123)"
   ]
  },
  {
   "cell_type": "code",
   "execution_count": 2,
   "metadata": {},
   "outputs": [],
   "source": [
    "def kwargs_args1(**kwargs):\n",
    "    if  \"berry\" in kwargs:\n",
    "         print(\"berry\")\n",
    "    else :\n",
    "         print(\"sorryyyy\")\n",
    "\n"
   ]
  },
  {
   "cell_type": "code",
   "execution_count": 3,
   "metadata": {},
   "outputs": [
    {
     "name": "stdout",
     "output_type": "stream",
     "text": [
      "sorryyyy\n"
     ]
    }
   ],
   "source": [
    "kwargs_args1(banana=152, melon= 120, stwb=100)"
   ]
  },
  {
   "cell_type": "code",
   "execution_count": 4,
   "metadata": {},
   "outputs": [
    {
     "name": "stdout",
     "output_type": "stream",
     "text": [
      "berry\n"
     ]
    }
   ],
   "source": [
    "kwargs_args1(banana=152, melon= 120, stwb=100,berry=124)"
   ]
  },
  {
   "cell_type": "code",
   "execution_count": null,
   "metadata": {},
   "outputs": [],
   "source": []
  }
 ],
 "metadata": {
  "kernelspec": {
   "display_name": "base",
   "language": "python",
   "name": "python3"
  },
  "language_info": {
   "codemirror_mode": {
    "name": "ipython",
    "version": 3
   },
   "file_extension": ".py",
   "mimetype": "text/x-python",
   "name": "python",
   "nbconvert_exporter": "python",
   "pygments_lexer": "ipython3",
   "version": "3.12.7"
  }
 },
 "nbformat": 4,
 "nbformat_minor": 2
}
