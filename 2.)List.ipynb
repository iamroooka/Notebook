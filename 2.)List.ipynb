{
 "cells": [
  {
   "cell_type": "code",
   "execution_count": 197,
   "id": "57189de0-8f57-4819-8675-8c07ed116ebf",
   "metadata": {},
   "outputs": [
    {
     "ename": "TypeError",
     "evalue": "'list' object is not callable",
     "output_type": "error",
     "traceback": [
      "\u001b[1;31m---------------------------------------------------------------------------\u001b[0m",
      "\u001b[1;31mTypeError\u001b[0m                                 Traceback (most recent call last)",
      "Cell \u001b[1;32mIn[197], line 1\u001b[0m\n\u001b[1;32m----> 1\u001b[0m myList(\u001b[38;5;241m10\u001b[39m,\u001b[38;5;241m20\u001b[39m,\u001b[38;5;241m20\u001b[39m)\n",
      "\u001b[1;31mTypeError\u001b[0m: 'list' object is not callable"
     ]
    }
   ],
   "source": [
    "myList(10,20,20)  #liste gösterimi bu şekilde olmaz."
   ]
  },
  {
   "cell_type": "code",
   "execution_count": 198,
   "id": "25f1e102-add7-4b9f-bc70-97384d7006a7",
   "metadata": {},
   "outputs": [],
   "source": [
    "myList = [10,20,30,85,78]"
   ]
  },
  {
   "cell_type": "code",
   "execution_count": 199,
   "id": "7877b600-09e5-433b-a348-6873c308b32d",
   "metadata": {},
   "outputs": [
    {
     "data": {
      "text/plain": [
       "list"
      ]
     },
     "execution_count": 199,
     "metadata": {},
     "output_type": "execute_result"
    }
   ],
   "source": [
    "type(myList) #myList değişkeninin tipini verdi"
   ]
  },
  {
   "cell_type": "code",
   "execution_count": 200,
   "id": "c80e4d65-5d7c-4367-bb4e-346771cac85c",
   "metadata": {},
   "outputs": [
    {
     "data": {
      "text/plain": [
       "int"
      ]
     },
     "execution_count": 200,
     "metadata": {},
     "output_type": "execute_result"
    }
   ],
   "source": [
    "type(myList[0])   #myList olarak tanımladığımız değişkenin içindeki 0.indexin tipini verdi (mylist in içine integer yani tam sayı elemanları girmiştik, 0. elamanı da 10 a eşit)"
   ]
  },
  {
   "cell_type": "code",
   "execution_count": 201,
   "id": "4a1752d4-ef38-40cb-ac95-7229c3c5cdee",
   "metadata": {},
   "outputs": [],
   "source": [
    "x = 10 \n",
    "y = 28\n",
    "z = 23\n"
   ]
  },
  {
   "cell_type": "code",
   "execution_count": 202,
   "id": "5b4166ef-55ff-4e99-ad41-5cf2fcd9482b",
   "metadata": {},
   "outputs": [],
   "source": [
    "myList =[x,y,z]"
   ]
  },
  {
   "cell_type": "code",
   "execution_count": 203,
   "id": "a40c812a-7a1b-446f-b4fd-72c8f78f8bef",
   "metadata": {},
   "outputs": [
    {
     "data": {
      "text/plain": [
       "[10, 28, 23]"
      ]
     },
     "execution_count": 203,
     "metadata": {},
     "output_type": "execute_result"
    }
   ],
   "source": [
    "myList"
   ]
  },
  {
   "cell_type": "code",
   "execution_count": 204,
   "id": "c18e534e-a4a3-4a67-bfe7-2358cd729ffd",
   "metadata": {},
   "outputs": [
    {
     "data": {
      "text/plain": [
       "10"
      ]
     },
     "execution_count": 204,
     "metadata": {},
     "output_type": "execute_result"
    }
   ],
   "source": [
    "myList[0]"
   ]
  },
  {
   "cell_type": "code",
   "execution_count": 205,
   "id": "a8fe3d8f-9561-48cf-bd53-f5b9eb9e5f1a",
   "metadata": {},
   "outputs": [],
   "source": [
    "myList[0]= 82892 #listemdeki 0.eleman 10 du burada 0.elemanı 82892 olarak değiştirdim "
   ]
  },
  {
   "cell_type": "code",
   "execution_count": 206,
   "id": "74a12df8-8643-4069-ba9f-39d8268fb7d1",
   "metadata": {},
   "outputs": [
    {
     "data": {
      "text/plain": [
       "82892"
      ]
     },
     "execution_count": 206,
     "metadata": {},
     "output_type": "execute_result"
    }
   ],
   "source": [
    "myList[0]"
   ]
  },
  {
   "cell_type": "code",
   "execution_count": 207,
   "id": "7c5f4785-8774-4225-ac3c-ef41f853cb39",
   "metadata": {},
   "outputs": [
    {
     "data": {
      "text/plain": [
       "[82892, 28, 23]"
      ]
     },
     "execution_count": 207,
     "metadata": {},
     "output_type": "execute_result"
    }
   ],
   "source": [
    "myList  #listemin güncel hali"
   ]
  },
  {
   "cell_type": "code",
   "execution_count": 208,
   "id": "7be3f15e-1d9f-4100-afdf-a6513d0df484",
   "metadata": {},
   "outputs": [
    {
     "data": {
      "text/plain": [
       "3"
      ]
     },
     "execution_count": 208,
     "metadata": {},
     "output_type": "execute_result"
    }
   ],
   "source": [
    "len(myList) #listemdeki eleman sayısı"
   ]
  },
  {
   "cell_type": "code",
   "execution_count": 209,
   "id": "4e0ca0f3-0cf4-4e9c-af2d-f2c1c117358d",
   "metadata": {},
   "outputs": [
    {
     "name": "stdout",
     "output_type": "stream",
     "text": [
      "Help on built-in function clear:\n",
      "\n",
      "clear() method of builtins.list instance\n",
      "    Remove all items from list.\n",
      "\n"
     ]
    }
   ],
   "source": [
    "help(myList.clear)"
   ]
  },
  {
   "cell_type": "code",
   "execution_count": 210,
   "id": "ccc16ac2-23c1-4293-9072-49b91d650d71",
   "metadata": {},
   "outputs": [],
   "source": [
    "myList.clear()  #listedeki elemanların hepsini siler \n"
   ]
  },
  {
   "cell_type": "code",
   "execution_count": 211,
   "id": "93806768-0d9b-492b-a8ea-ee3114a64e3f",
   "metadata": {},
   "outputs": [
    {
     "data": {
      "text/plain": [
       "[]"
      ]
     },
     "execution_count": 211,
     "metadata": {},
     "output_type": "execute_result"
    }
   ],
   "source": [
    "myList #ya da print(myList) şeklinde çalıştırırız "
   ]
  },
  {
   "cell_type": "code",
   "execution_count": 212,
   "id": "448adc0a-a823-4a18-977d-ec386ba5c4f1",
   "metadata": {},
   "outputs": [],
   "source": [
    "myList = [21,34,56,78,12,15,24,21]"
   ]
  },
  {
   "cell_type": "code",
   "execution_count": 213,
   "id": "9e4587a3-e701-48f7-b6e7-f03188959ae5",
   "metadata": {},
   "outputs": [
    {
     "data": {
      "text/plain": [
       "2"
      ]
     },
     "execution_count": 213,
     "metadata": {},
     "output_type": "execute_result"
    }
   ],
   "source": [
    "myList.count(21) #içinde kaç tane 21 elemanı olduğunu verdi"
   ]
  },
  {
   "cell_type": "code",
   "execution_count": 214,
   "id": "67401883-72f3-46b1-8b4c-5e9c79f5dceb",
   "metadata": {},
   "outputs": [
    {
     "data": {
      "text/plain": [
       "0"
      ]
     },
     "execution_count": 214,
     "metadata": {},
     "output_type": "execute_result"
    }
   ],
   "source": [
    "myList.index(21)  #21 sayısı bu listenin kaçıncı indexi(elemanı)-index sayımı 0'dan başlar-"
   ]
  },
  {
   "cell_type": "code",
   "execution_count": 215,
   "id": "6c7dd808-bf92-4940-9e13-92bf5e3346e5",
   "metadata": {},
   "outputs": [
    {
     "data": {
      "text/plain": [
       "[21, 34, 56, 78, 12, 15, 24, 21]"
      ]
     },
     "execution_count": 215,
     "metadata": {},
     "output_type": "execute_result"
    }
   ],
   "source": [
    "myList"
   ]
  },
  {
   "cell_type": "code",
   "execution_count": 216,
   "id": "3c302683-f720-4ef8-a4c2-3bde3b2e58d4",
   "metadata": {},
   "outputs": [],
   "source": [
    "myList.insert(5,88)  #5.index i 88 yap\n",
    " "
   ]
  },
  {
   "cell_type": "code",
   "execution_count": null,
   "id": "afa44ce7",
   "metadata": {},
   "outputs": [],
   "source": []
  },
  {
   "cell_type": "code",
   "execution_count": 217,
   "id": "601cbb87-6a4b-41a0-896d-0471872b42d9",
   "metadata": {},
   "outputs": [
    {
     "data": {
      "text/plain": [
       "[21, 34, 56, 78, 12, 88, 15, 24, 21]"
      ]
     },
     "execution_count": 217,
     "metadata": {},
     "output_type": "execute_result"
    }
   ],
   "source": [
    "myList #5.index i 88  oldu \n"
   ]
  },
  {
   "cell_type": "code",
   "execution_count": 218,
   "id": "15cea949-7247-4c1e-992e-9d303b0c742c",
   "metadata": {},
   "outputs": [
    {
     "data": {
      "text/plain": [
       "21"
      ]
     },
     "execution_count": 218,
     "metadata": {},
     "output_type": "execute_result"
    }
   ],
   "source": [
    "myList.pop()  #son elemanı atar "
   ]
  },
  {
   "cell_type": "code",
   "execution_count": 219,
   "id": "832bb046-29d5-4043-abc9-7ed071ce717b",
   "metadata": {},
   "outputs": [
    {
     "data": {
      "text/plain": [
       "[21, 34, 56, 78, 12, 88, 15, 24]"
      ]
     },
     "execution_count": 219,
     "metadata": {},
     "output_type": "execute_result"
    }
   ],
   "source": [
    "myList "
   ]
  },
  {
   "cell_type": "code",
   "execution_count": 220,
   "id": "a496dec4-03d4-441e-96c5-6e92a0dcc0cb",
   "metadata": {},
   "outputs": [
    {
     "name": "stdout",
     "output_type": "stream",
     "text": [
      "Help on built-in function remove:\n",
      "\n",
      "remove(value, /) method of builtins.list instance\n",
      "    Remove first occurrence of value.\n",
      "\n",
      "    Raises ValueError if the value is not present.\n",
      "\n"
     ]
    }
   ],
   "source": [
    "help(myList.remove)"
   ]
  },
  {
   "cell_type": "code",
   "execution_count": 221,
   "id": "435cf199-0d9e-43d0-ace3-6946a2b12fb7",
   "metadata": {},
   "outputs": [],
   "source": [
    "myList.remove(56)  #56 sayısını bu listeden kaldırdım "
   ]
  },
  {
   "cell_type": "code",
   "execution_count": 222,
   "id": "7af13326-9228-44e7-92b0-69eb0a8d04d5",
   "metadata": {},
   "outputs": [
    {
     "data": {
      "text/plain": [
       "[21, 34, 78, 12, 88, 15, 24]"
      ]
     },
     "execution_count": 222,
     "metadata": {},
     "output_type": "execute_result"
    }
   ],
   "source": [
    "myList   #56 sayısı listemde mevcut değil"
   ]
  },
  {
   "cell_type": "code",
   "execution_count": 223,
   "id": "e57b71ee-ee11-4eb8-a080-823b71e8df60",
   "metadata": {},
   "outputs": [],
   "source": [
    "myList.sort() #lsitedeki sayıları küçükten büyüğe doğru dizer "
   ]
  },
  {
   "cell_type": "code",
   "execution_count": 224,
   "id": "8a3318ea-22c9-4285-a61e-55f8e47422c6",
   "metadata": {},
   "outputs": [
    {
     "data": {
      "text/plain": [
       "[12, 15, 21, 24, 34, 78, 88]"
      ]
     },
     "execution_count": 224,
     "metadata": {},
     "output_type": "execute_result"
    }
   ],
   "source": [
    "myList "
   ]
  },
  {
   "cell_type": "code",
   "execution_count": 225,
   "id": "8f80cfe6-5d36-4768-a100-8db2cec47521",
   "metadata": {},
   "outputs": [],
   "source": [
    "myList.append(80) #listeye ekleme yapmak için kullanılır."
   ]
  },
  {
   "cell_type": "code",
   "execution_count": 226,
   "id": "ce5c4fad-da47-45cf-af28-7a243ec31e1f",
   "metadata": {},
   "outputs": [
    {
     "data": {
      "text/plain": [
       "[12, 15, 21, 24, 34, 78, 88, 80]"
      ]
     },
     "execution_count": 226,
     "metadata": {},
     "output_type": "execute_result"
    }
   ],
   "source": [
    "myList"
   ]
  },
  {
   "cell_type": "code",
   "execution_count": 227,
   "id": "e2535ff2-5a04-4456-a21d-605e14bebe3a",
   "metadata": {},
   "outputs": [],
   "source": [
    "myList.insert(2,56)   #2.indexe 56 sayısını ekledim ( istediğim indexe istediğim eklemeyi yapmak için kullanıyorum)"
   ]
  },
  {
   "cell_type": "code",
   "execution_count": 228,
   "id": "9cee31c4-c398-47d8-9a32-67ec81d4fc9d",
   "metadata": {},
   "outputs": [
    {
     "data": {
      "text/plain": [
       "[12, 15, 56, 21, 24, 34, 78, 88, 80]"
      ]
     },
     "execution_count": 228,
     "metadata": {},
     "output_type": "execute_result"
    }
   ],
   "source": [
    "myList"
   ]
  },
  {
   "cell_type": "code",
   "execution_count": 229,
   "id": "c5210bf2-076d-417d-bd19-08e0191f658a",
   "metadata": {},
   "outputs": [
    {
     "name": "stdout",
     "output_type": "stream",
     "text": [
      "enter x 12\n"
     ]
    }
   ],
   "source": [
    "x = input(\"enter x\")"
   ]
  },
  {
   "cell_type": "code",
   "execution_count": 230,
   "id": "f76113b5-72b7-43b2-abf5-c96cc26b9cc3",
   "metadata": {},
   "outputs": [
    {
     "data": {
      "text/plain": [
       "'12'"
      ]
     },
     "execution_count": 230,
     "metadata": {},
     "output_type": "execute_result"
    }
   ],
   "source": [
    "x\n"
   ]
  },
  {
   "cell_type": "code",
   "execution_count": 231,
   "id": "6576c033-d44c-4ebf-8ca1-5a5bacd941b2",
   "metadata": {},
   "outputs": [
    {
     "data": {
      "text/plain": [
       "str"
      ]
     },
     "execution_count": 231,
     "metadata": {},
     "output_type": "execute_result"
    }
   ],
   "source": [
    "type(x)"
   ]
  },
  {
   "cell_type": "code",
   "execution_count": 233,
   "id": "c1c33253-980b-43fe-a708-c84c8dc88e6b",
   "metadata": {},
   "outputs": [
    {
     "name": "stdout",
     "output_type": "stream",
     "text": [
      "enter y 45\n"
     ]
    }
   ],
   "source": [
    "y = input (\"enter y\")"
   ]
  },
  {
   "cell_type": "code",
   "execution_count": 234,
   "id": "0ebefbf1-e658-4f42-a32a-b1440297a6be",
   "metadata": {},
   "outputs": [
    {
     "data": {
      "text/plain": [
       "'45'"
      ]
     },
     "execution_count": 234,
     "metadata": {},
     "output_type": "execute_result"
    }
   ],
   "source": [
    "y"
   ]
  },
  {
   "cell_type": "code",
   "execution_count": 235,
   "id": "7f063219-553e-4207-a482-f551b39fb49a",
   "metadata": {},
   "outputs": [
    {
     "data": {
      "text/plain": [
       "str"
      ]
     },
     "execution_count": 235,
     "metadata": {},
     "output_type": "execute_result"
    }
   ],
   "source": [
    "type(y)"
   ]
  },
  {
   "cell_type": "code",
   "execution_count": 236,
   "id": "2fa400f9-2e3b-429d-868e-fa7d9e6a6b06",
   "metadata": {},
   "outputs": [
    {
     "name": "stdout",
     "output_type": "stream",
     "text": [
      "enter z 47\n"
     ]
    }
   ],
   "source": [
    "z = input(\"enter z\")"
   ]
  },
  {
   "cell_type": "code",
   "execution_count": 237,
   "id": "5a65751e-715d-40a7-bef0-2ef28bc6008b",
   "metadata": {},
   "outputs": [
    {
     "data": {
      "text/plain": [
       "'47'"
      ]
     },
     "execution_count": 237,
     "metadata": {},
     "output_type": "execute_result"
    }
   ],
   "source": [
    "z\n"
   ]
  },
  {
   "cell_type": "code",
   "execution_count": 238,
   "id": "aed018fa-813c-4943-b37e-bcaa2276ff59",
   "metadata": {},
   "outputs": [],
   "source": [
    "inputList = []"
   ]
  },
  {
   "cell_type": "code",
   "execution_count": 239,
   "id": "209566ab-c67a-4dd6-ae41-f4b550da2b3b",
   "metadata": {},
   "outputs": [
    {
     "data": {
      "text/plain": [
       "[]"
      ]
     },
     "execution_count": 239,
     "metadata": {},
     "output_type": "execute_result"
    }
   ],
   "source": [
    "inputList"
   ]
  },
  {
   "cell_type": "code",
   "execution_count": 240,
   "id": "7df4476b-200f-435e-b12a-10e3a7d3870e",
   "metadata": {},
   "outputs": [
    {
     "data": {
      "text/plain": [
       "list"
      ]
     },
     "execution_count": 240,
     "metadata": {},
     "output_type": "execute_result"
    }
   ],
   "source": [
    "type(inputList)"
   ]
  },
  {
   "cell_type": "code",
   "execution_count": 241,
   "id": "7c9c2a1c-6a7c-415b-ab60-6392feaa7ecb",
   "metadata": {},
   "outputs": [
    {
     "data": {
      "text/plain": [
       "0"
      ]
     },
     "execution_count": 241,
     "metadata": {},
     "output_type": "execute_result"
    }
   ],
   "source": [
    "len(inputList)"
   ]
  },
  {
   "cell_type": "code",
   "execution_count": 242,
   "id": "aac10aa1-6d62-4d28-9bd5-315e2865bba5",
   "metadata": {},
   "outputs": [],
   "source": [
    "inputList.append(x)\n",
    "inputList.append(y)        #inputList adında bi liste oluşturup yukarıda olulturduğum x y z yi ekledim\n",
    "inputList.append(z)"
   ]
  },
  {
   "cell_type": "code",
   "execution_count": 243,
   "id": "9db7fc22-3e94-488c-b0f6-5e21f7a3cc80",
   "metadata": {},
   "outputs": [
    {
     "data": {
      "text/plain": [
       "['12', '45', '47']"
      ]
     },
     "execution_count": 243,
     "metadata": {},
     "output_type": "execute_result"
    }
   ],
   "source": [
    "inputList"
   ]
  },
  {
   "cell_type": "code",
   "execution_count": 244,
   "id": "15125924-2aec-41e9-909d-bc3a89dd28b4",
   "metadata": {},
   "outputs": [
    {
     "data": {
      "text/plain": [
       "'45'"
      ]
     },
     "execution_count": 244,
     "metadata": {},
     "output_type": "execute_result"
    }
   ],
   "source": [
    "inputList[1]"
   ]
  },
  {
   "cell_type": "code",
   "execution_count": 245,
   "id": "37f6e42b-c092-4a07-b629-28bf3ad7c9bd",
   "metadata": {},
   "outputs": [
    {
     "data": {
      "text/plain": [
       "'12'"
      ]
     },
     "execution_count": 245,
     "metadata": {},
     "output_type": "execute_result"
    }
   ],
   "source": [
    "inputList[0]"
   ]
  },
  {
   "cell_type": "code",
   "execution_count": 246,
   "id": "2b3a5923-19d7-4042-811e-8d11b9c38fe3",
   "metadata": {},
   "outputs": [
    {
     "data": {
      "text/plain": [
       "'1212121212'"
      ]
     },
     "execution_count": 246,
     "metadata": {},
     "output_type": "execute_result"
    }
   ],
   "source": [
    "inputList[0]*5  #string bir yapı olr algıladığı için çarpma işlemi yapmaz str yapılara yaptığı gibi 5 kere yan yana yazdırır."
   ]
  },
  {
   "cell_type": "code",
   "execution_count": 247,
   "id": "766fae02-e112-4d5a-9b52-7b06e84b0db5",
   "metadata": {},
   "outputs": [
    {
     "data": {
      "text/plain": [
       "str"
      ]
     },
     "execution_count": 247,
     "metadata": {},
     "output_type": "execute_result"
    }
   ],
   "source": [
    "type(inputList[1])"
   ]
  },
  {
   "cell_type": "code",
   "execution_count": 248,
   "id": "35cb3114-0ea6-46a5-9c30-979f15c6aa6d",
   "metadata": {},
   "outputs": [],
   "source": [
    "myInteger = 50 "
   ]
  },
  {
   "cell_type": "code",
   "execution_count": 249,
   "id": "6432b9b6-179e-457b-a622-0b5afbd45a29",
   "metadata": {},
   "outputs": [
    {
     "data": {
      "text/plain": [
       "'50'"
      ]
     },
     "execution_count": 249,
     "metadata": {},
     "output_type": "execute_result"
    }
   ],
   "source": [
    "str(myInteger)"
   ]
  },
  {
   "cell_type": "code",
   "execution_count": 250,
   "id": "f9a28188-8dd0-482f-bade-20cef93b6e8d",
   "metadata": {},
   "outputs": [
    {
     "data": {
      "text/plain": [
       "int"
      ]
     },
     "execution_count": 250,
     "metadata": {},
     "output_type": "execute_result"
    }
   ],
   "source": [
    "type(myInteger)"
   ]
  },
  {
   "cell_type": "code",
   "execution_count": 251,
   "id": "6e0d6cae-c9bc-4858-9cd7-2c1dfa5cad2b",
   "metadata": {},
   "outputs": [],
   "source": [
    "myString = \"40\""
   ]
  },
  {
   "cell_type": "code",
   "execution_count": 252,
   "id": "5e61b32c-203c-4aa9-ace3-80caf82ea8fb",
   "metadata": {},
   "outputs": [
    {
     "data": {
      "text/plain": [
       "40"
      ]
     },
     "execution_count": 252,
     "metadata": {},
     "output_type": "execute_result"
    }
   ],
   "source": [
    "int(myString)"
   ]
  },
  {
   "cell_type": "code",
   "execution_count": 253,
   "id": "d992e11c-3694-4bb9-bf20-32024da32b46",
   "metadata": {},
   "outputs": [
    {
     "data": {
      "text/plain": [
       "str"
      ]
     },
     "execution_count": 253,
     "metadata": {},
     "output_type": "execute_result"
    }
   ],
   "source": [
    "type(myString) "
   ]
  },
  {
   "cell_type": "code",
   "execution_count": 254,
   "id": "132f0609-08b4-47bc-9ba0-7d7f0d323f94",
   "metadata": {},
   "outputs": [
    {
     "data": {
      "text/plain": [
       "40.0"
      ]
     },
     "execution_count": 254,
     "metadata": {},
     "output_type": "execute_result"
    }
   ],
   "source": [
    "float(myString)"
   ]
  },
  {
   "cell_type": "markdown",
   "id": "93b97b12-0b7f-4a77-ac82-bb07e383d211",
   "metadata": {},
   "source": [
    "BU MANTIKLA YUKARIDA OLUŞTURDUĞUMUZ LİSTEYİ INT TÜRÜNE ÇEVİRİP İŞLEM YAPALIM "
   ]
  },
  {
   "cell_type": "code",
   "execution_count": 255,
   "id": "77bc7e79-34f5-4540-9ad3-aff583388c6e",
   "metadata": {},
   "outputs": [
    {
     "data": {
      "text/plain": [
       "['12', '45', '47']"
      ]
     },
     "execution_count": 255,
     "metadata": {},
     "output_type": "execute_result"
    }
   ],
   "source": [
    "inputList"
   ]
  },
  {
   "cell_type": "code",
   "execution_count": 259,
   "id": "add083f5-a995-4bc3-9161-7805512261d4",
   "metadata": {},
   "outputs": [
    {
     "data": {
      "text/plain": [
       "45"
      ]
     },
     "execution_count": 259,
     "metadata": {},
     "output_type": "execute_result"
    }
   ],
   "source": [
    "int(inputList[1])"
   ]
  },
  {
   "cell_type": "code",
   "execution_count": 261,
   "id": "eaaf3c3d-b94e-45d3-aa56-4ad01960fc15",
   "metadata": {},
   "outputs": [
    {
     "data": {
      "text/plain": [
       "135"
      ]
     },
     "execution_count": 261,
     "metadata": {},
     "output_type": "execute_result"
    }
   ],
   "source": [
    "int(inputList[1])*3 #Artık listedeki sayıyıı str olr değil int olr görüyor bu yüzden matematiksel işlem yapıyor."
   ]
  },
  {
   "cell_type": "code",
   "execution_count": 262,
   "id": "ce15baf2-5d0d-4a66-84ce-2912763174b5",
   "metadata": {},
   "outputs": [],
   "source": [
    "mixedList= [\"roooka\",10.5,122]"
   ]
  },
  {
   "cell_type": "code",
   "execution_count": 263,
   "id": "f26a3bf3-bb53-4e8f-9538-ce13ca0836da",
   "metadata": {},
   "outputs": [
    {
     "data": {
      "text/plain": [
       "'roooka'"
      ]
     },
     "execution_count": 263,
     "metadata": {},
     "output_type": "execute_result"
    }
   ],
   "source": [
    "mixedList[0]"
   ]
  },
  {
   "cell_type": "code",
   "execution_count": 265,
   "id": "d883fdbd-e099-4ddb-b4ab-3162c90da1dc",
   "metadata": {},
   "outputs": [
    {
     "data": {
      "text/plain": [
       "str"
      ]
     },
     "execution_count": 265,
     "metadata": {},
     "output_type": "execute_result"
    }
   ],
   "source": [
    "type(mixedList[0])"
   ]
  },
  {
   "cell_type": "code",
   "execution_count": 266,
   "id": "03c82c8d-b39f-4543-841c-36ce4707f651",
   "metadata": {},
   "outputs": [
    {
     "data": {
      "text/plain": [
       "float"
      ]
     },
     "execution_count": 266,
     "metadata": {},
     "output_type": "execute_result"
    }
   ],
   "source": [
    "type(mixedList[1])"
   ]
  },
  {
   "cell_type": "code",
   "execution_count": 267,
   "id": "cf29ec75-5186-4ec3-95d6-4ac7ab366b97",
   "metadata": {},
   "outputs": [
    {
     "data": {
      "text/plain": [
       "int"
      ]
     },
     "execution_count": 267,
     "metadata": {},
     "output_type": "execute_result"
    }
   ],
   "source": [
    "type(mixedList[2])"
   ]
  },
  {
   "cell_type": "code",
   "execution_count": 270,
   "id": "b777d468-3b2e-4876-86de-f3cfdb422cda",
   "metadata": {},
   "outputs": [],
   "source": [
    "list1 = [10,20,30]\n",
    "list2 = [80,90,67]        "
   ]
  },
  {
   "cell_type": "code",
   "execution_count": 271,
   "id": "3eb0ac28-bb7a-40fd-a935-cd33c61c7664",
   "metadata": {},
   "outputs": [
    {
     "data": {
      "text/plain": [
       "[10, 20, 30, 80, 90, 67]"
      ]
     },
     "execution_count": 271,
     "metadata": {},
     "output_type": "execute_result"
    }
   ],
   "source": [
    "list1 + list2 "
   ]
  },
  {
   "cell_type": "code",
   "execution_count": 272,
   "id": "79db7a35-dce7-4462-a583-cfecffd5e9b3",
   "metadata": {},
   "outputs": [
    {
     "data": {
      "text/plain": [
       "[10, 20, 30, 10, 20, 30, 10, 20, 30]"
      ]
     },
     "execution_count": 272,
     "metadata": {},
     "output_type": "execute_result"
    }
   ],
   "source": [
    "list1 *3"
   ]
  },
  {
   "cell_type": "code",
   "execution_count": 273,
   "id": "ffcbd9d3-aedd-464c-afb5-295b46f21024",
   "metadata": {},
   "outputs": [],
   "source": [
    "#Nestedlist iç içe girmiş listeler "
   ]
  },
  {
   "cell_type": "code",
   "execution_count": 274,
   "id": "de0b9a86-20ee-4e8b-9834-7b47a04d2f37",
   "metadata": {},
   "outputs": [],
   "source": [
    "myNestedList = [10,12.5,\"roooka\",[12,45,78]]"
   ]
  },
  {
   "cell_type": "code",
   "execution_count": 275,
   "id": "316c499d-1592-4c61-baf4-23384f7f5303",
   "metadata": {},
   "outputs": [
    {
     "data": {
      "text/plain": [
       "10"
      ]
     },
     "execution_count": 275,
     "metadata": {},
     "output_type": "execute_result"
    }
   ],
   "source": [
    "myNestedList[0]"
   ]
  },
  {
   "cell_type": "code",
   "execution_count": 277,
   "id": "9dd1fa74-51c9-4f2b-a711-4b72a64c907a",
   "metadata": {},
   "outputs": [
    {
     "data": {
      "text/plain": [
       "[12, 45, 78]"
      ]
     },
     "execution_count": 277,
     "metadata": {},
     "output_type": "execute_result"
    }
   ],
   "source": [
    "myNestedList[3]"
   ]
  },
  {
   "cell_type": "code",
   "execution_count": 278,
   "id": "cc5a57be-1225-4ba8-897e-52ee80e21bab",
   "metadata": {},
   "outputs": [],
   "source": [
    "mySmallList= myNestedList[3]"
   ]
  },
  {
   "cell_type": "code",
   "execution_count": 279,
   "id": "d165f054-5f03-4623-ad04-53d9375a4f44",
   "metadata": {},
   "outputs": [
    {
     "data": {
      "text/plain": [
       "[12, 45, 78]"
      ]
     },
     "execution_count": 279,
     "metadata": {},
     "output_type": "execute_result"
    }
   ],
   "source": [
    "mySmallList"
   ]
  },
  {
   "cell_type": "code",
   "execution_count": 281,
   "id": "5e6ada4e-d119-4b0c-a962-f04827a4e484",
   "metadata": {},
   "outputs": [
    {
     "data": {
      "text/plain": [
       "78"
      ]
     },
     "execution_count": 281,
     "metadata": {},
     "output_type": "execute_result"
    }
   ],
   "source": [
    "myNestedList[3][2]  #myNestedLİst in içindeki 4.İndexindeki-(0,1,2,3) olarak 3 e denk gelir- listenin 3.indexi-(0,1,2) olarak  2 ye denk gelir çağırır "
   ]
  },
  {
   "cell_type": "code",
   "execution_count": 282,
   "id": "ae4ef078-c304-4824-b5d4-a041d57dc61a",
   "metadata": {},
   "outputs": [
    {
     "data": {
      "text/plain": [
       "45"
      ]
     },
     "execution_count": 282,
     "metadata": {},
     "output_type": "execute_result"
    }
   ],
   "source": [
    "myNestedList[3][1]  #myNestedList deki 3.indexe denk gelen listenin içindeki 2. elemanı yani 1. indexi çağırır"
   ]
  },
  {
   "cell_type": "code",
   "execution_count": 283,
   "id": "48b791c4-a9e0-4086-9ec3-d1883ff118b4",
   "metadata": {},
   "outputs": [],
   "source": [
    "lastList = [\"a\",\"roooka\",[\"s\",\"y\",4],[1,2,3,]]"
   ]
  },
  {
   "cell_type": "code",
   "execution_count": 285,
   "id": "ac42480f-d109-4332-91da-77b6c034e0ea",
   "metadata": {},
   "outputs": [
    {
     "data": {
      "text/plain": [
       "4"
      ]
     },
     "execution_count": 285,
     "metadata": {},
     "output_type": "execute_result"
    }
   ],
   "source": [
    "lastList[2][2]  #2.indexin 2.indexini çağırdık ikisi de 0 dan başladığını unutma "
   ]
  },
  {
   "cell_type": "code",
   "execution_count": 286,
   "id": "6b731ab7-2640-4a75-8111-4540876e9a16",
   "metadata": {},
   "outputs": [
    {
     "data": {
      "text/plain": [
       "'roooka'"
      ]
     },
     "execution_count": 286,
     "metadata": {},
     "output_type": "execute_result"
    }
   ],
   "source": [
    "lastList[1]"
   ]
  },
  {
   "cell_type": "code",
   "execution_count": 287,
   "id": "ed27bcdb-8ad1-44a6-8add-b9628452c73e",
   "metadata": {},
   "outputs": [
    {
     "data": {
      "text/plain": [
       "4"
      ]
     },
     "execution_count": 287,
     "metadata": {},
     "output_type": "execute_result"
    }
   ],
   "source": [
    "len(lastList)"
   ]
  },
  {
   "cell_type": "code",
   "execution_count": 303,
   "id": "61bda656-6bd7-4dbe-b131-9884635b04de",
   "metadata": {},
   "outputs": [],
   "source": [
    "firstList = [12,22,33,23,64,45,96,57,38,29,10,74,88,95]"
   ]
  },
  {
   "cell_type": "code",
   "execution_count": 304,
   "id": "55a20702-c246-47d4-aeab-c81addb990c5",
   "metadata": {},
   "outputs": [
    {
     "data": {
      "text/plain": [
       "[33, 23, 64, 45, 96, 57, 38, 29, 10, 74, 88, 95]"
      ]
     },
     "execution_count": 304,
     "metadata": {},
     "output_type": "execute_result"
    }
   ],
   "source": [
    "firstList[2::]  #2.indexten başlattık"
   ]
  },
  {
   "cell_type": "code",
   "execution_count": 306,
   "id": "8eae80ab-2423-4539-b913-19fdb35cb263",
   "metadata": {},
   "outputs": [
    {
     "data": {
      "text/plain": [
       "[12, 22, 33, 23, 64]"
      ]
     },
     "execution_count": 306,
     "metadata": {},
     "output_type": "execute_result"
    }
   ],
   "source": [
    "firstList[:5]"
   ]
  },
  {
   "cell_type": "code",
   "execution_count": 308,
   "id": "cf648970-4626-4042-9fb8-501089ff9dcf",
   "metadata": {},
   "outputs": [
    {
     "data": {
      "text/plain": [
       "[33, 23, 64]"
      ]
     },
     "execution_count": 308,
     "metadata": {},
     "output_type": "execute_result"
    }
   ],
   "source": [
    "firstList[2:5]  #2.indexten başlatıp 5. indexe kadar yazdırıdık 5 i yazmadı "
   ]
  },
  {
   "cell_type": "code",
   "execution_count": 311,
   "id": "e8e3571b-ea93-4355-90fb-4f0bf8d0846e",
   "metadata": {},
   "outputs": [
    {
     "data": {
      "text/plain": [
       "[64, 96]"
      ]
     },
     "execution_count": 311,
     "metadata": {},
     "output_type": "execute_result"
    }
   ],
   "source": [
    "firstList[4:8:2] #4.indexten başla, 8.indexe kadar 2 şer atlayarak git"
   ]
  },
  {
   "cell_type": "code",
   "execution_count": null,
   "id": "4b9d3829-98bb-4656-a643-1295ca61a803",
   "metadata": {},
   "outputs": [],
   "source": []
  }
 ],
 "metadata": {
  "kernelspec": {
   "display_name": "Python 3 (ipykernel)",
   "language": "python",
   "name": "python3"
  },
  "language_info": {
   "codemirror_mode": {
    "name": "ipython",
    "version": 3
   },
   "file_extension": ".py",
   "mimetype": "text/x-python",
   "name": "python",
   "nbconvert_exporter": "python",
   "pygments_lexer": "ipython3",
   "version": "3.12.7"
  }
 },
 "nbformat": 4,
 "nbformat_minor": 5
}
